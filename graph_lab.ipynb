{
 "cells": [
  {
   "cell_type": "markdown",
   "id": "2d65a8a5-860e-41d8-ac27-fabb65da8243",
   "metadata": {
    "pycharm": {
     "name": "#%% md\n"
    }
   },
   "source": [
    "# Graph Lab"
   ]
  },
  {
   "cell_type": "markdown",
   "source": [
    "## Header information:\n",
    "\n",
    "  - Author #1: Akanksha Nehete (nehetea@mcmaster.ca)\n",
    "  - Author #2: Anna Yang (yanga49@mcmaster.ca)\n",
    "  - Gitlab URL: http://gitlab.cas.mcmaster.ca/nehetea/l1-graph-lab\n",
    "  - Avenue to Learn group name: 19\n",
    "\n",
    "## Class UML Diagram - WEEK 1 + WEEK2\n",
    "![UML](Images/Lab1_UML_WEEK2.png)\n",
    "\n",
    "## Design Choices - WEEK 1 + WEEK2\n",
    "\n",
    "Single Responsibility Principle\n",
    "\n",
    "   - We chose to take a very modular approach to our design as we wanted it to heavily reflect the single responsibility principle. This is why each of our classes has only one responsibility/purpose. For example, our Graph_builder class is solely responsible for taking a dictionary of london subway stations and connections and making it into a graph. The actual implementation of the graph data structure and actually converting the .csv file into the dictionary are the responsibilities of two other classes: Graph.py and Csv_reader.py, respectively. Furthermore, we have two different algorithms in our design to find the shortest path in a graph. We encapsulated both of these algorithms in a seperate class. Using the single responsibility principle in this case allowed us to use the strategy design pattern, in which the client is able to pick which shortest path algorithm to use. In addition, both algorithms use the Priority_Queue class, which provides an example of how giving each class a single responsibility makes it reusable. Incorporating this principle into our design also allowed effective collaboration between our group as we were able to divide up the assignment into several smaller classes which each had a single purpose. This allowed members of our group to work simultaneously and minimized the time needed to complete the code.\n",
    "\n",
    "\n",
    "Open Closed Principle\n",
    "- We wanted to make sure the design as a whole followed the open-closed principle (open for extension, but closed for modification) for object-oriented software development. There are two algorithm options for finding the shortest path in a graph that we needed to implement in our design in order to accomplish the same goal: find the shortest path between 2 nodes in a graph. This prompted us to use the Strategy design pattern, which allows us to define a family of algorithms, encapsulate each one, and then make their objects interchangeable. If in the future, more shortest-path algorithms were added, the programmer would simply have to make a new class file for the new algortihm and not have to modify any of the existing algorithms or classes. This makes the code easily extendable, but prevents the engineer from having to change all classes that depend on this method and break the code.\n",
    "\n",
    "\n",
    "Explanation of Overall Code\n",
    "- The Csv_reader reads any file (stations, lines, connections) and extracts the information into dictionaries that can be accessed by the Graph_builder. Graph_builder uses the output of the reader to create a Graph that represents the subway network, with stations represented as Nodes, connections represented as edges, and time represented as the edge weight. There is also 'label' attribute on the graph which allows a specific edge to be named. In Graph_builder, the 'line' information is used as the label for each edge. The graph uses an adjacency list representation in which all connections to a node are stored in an adjacency list by the node object. A Station_Node subclass also contains the more specific attributes of each station. The Station_Node subclass inherits from Node, thus having all the properties of a regular node but also contains properties specific to the london subway network (e.g name, latitude, longitude). This makes the code to be extendable and more generalizable to any transportation network. When wanting to add a new type of node with different properties, the engineer can simply add another class with the desired properties that extends the Node class rather than modifying any existing code. Metric_Extractor takes in a graph to obtain useful metrics such as average node degree, number of nodes, and number of edges. This is then used by a Plotter to display the node distribution of the graph to the user. Another class that uses Graph is Itinerary, which is able to model an itinerary between two stations using the id of the two stations and then finding the stations traversed in the shortest path between these 2 specific nodes. Itinerary functions as a shortest path algorithm factory. Dijkstra and A* shortest path algorithms are implementations of the ShortestPath interface. In this manner, the client (user) is easily able to decide which algorithm to use at runtime and the code remains extendable without modifying existing classes. (See Open Closed principle explanation for more).\n",
    "\n",
    "Division of Work WEEK21 + WEEK 2\n",
    "- Akanksha implemented the Graph.py, Node.py,Station_Node.py, Graph_builder.py, Metric_Extractor.py, Itinerary.py and Plotter.py classes. She also implemented the strategy design pattern when given the implementations of the A* and Dijkstra algorithms and drew the UML Class Diagram of the design. She also wrote an explanation of the design patterns and principles used in the assignment.\n",
    "\n",
    "- Anna implemented the Csv_reader.py class, as well as provided an implementation of the two shortest path algorithms, contained in the files Dijkstra.py and A_star.py. She also implemented Priority_Queue.py, a priority queue implementation used by both pathfinding algorithms. Anna also wrote a benchmark to compare itinerary finding implementations, and measured both execution time and KPI's for each of the shortest path algorithms. She also wrote an explanation of the overall code and how it works, as well as creating the graphs for the benchmarking performance measuring and writing explanations for them.\n",
    "\n",
    "\n",
    "## Benchmarking and KPI's (Dijkstra and A*) - Week 1\n",
    "\n",
    "These KPI and banchmarking measures were used to measure the performance of the Dijkstra and A* algorithms that find the shortest paths between stations.\n",
    "\n",
    "Execution Time, Stations Traversed = 15\n",
    "\n",
    "![exec15](Images/ExecutionTime_15.png)\n",
    "In order to test the execution time of the algorithms, a random path that traverses 15 stations is found to be used as the bench. Each algorithm is executed 30 times, since execution time may vary depending on the activity of the computer. The instances of each execution time (in milliseconds) is plotted. The graph on top shows that Dijkstra has an execution time of 1.9ms. The graph below shows that A* has an execution time of 1.5ms, but varies slightly more.\n",
    "\n",
    "Execution Time, Stations Traversed = 30\n",
    "\n",
    "![exec30](Images/ExecutionTime_30.png)\n",
    "In this execution time test, the randomly generated path that traverses 30 stations shows a different distribution of execution times. Each algorithm is run 30 times to obtain the values plotted. Both Dijkstra and A* have similar instances of execution time at about 2.8ms. The reason for the similar performance in these algorithms could be due to the extra time required to perform heuristic calculations when the path length is greater. Performance may also vary due to computer activity.\n",
    "\n",
    "Compares\n",
    "\n",
    "![comp](Images/Compares.png)\n",
    "In the test for the number of compares performed, random paths that traverse 5, 10, 15, 20, 25, 30, and 35 stations were generated as the benches. 35 was the longest path that could be randomly generated in a reasonable amount of time. Comparisons are made in the algorithms when checking if the node being visited provides a shorter path than paths previously established. Dijkstra performed a slightly greater number of compares than A*, as it does not use a heuristic to guide the algorithm to check stations that are closer to the destination station. This means A* only needs to compare “greedier” nodes, while Dijkstra must compare all adjacent nodes. This test verifies that the heuristic used in A* does improve performance.\n",
    "\n",
    "Inserts\n",
    "\n",
    "![ins](Images/Inserts.png)\n",
    "In the test for the number of insertions performed, random paths that traverse 5, 10, 15, 20, 25, 30, and 35 stations were generated as the benches. 35 was the longest path that could be randomly generated in a reasonable amount of time. Insertions are made in the algorithms when adding nodes to the priority queue. Dijkstra performed a slightly greater number of insertions than A*, as it does not use a heuristic to guide the algorithm to check stations that are closer to the destination station. This means that A* only needs to insert “greedier” stations to the priority queue, reducing the number of future inserts performed. This test verifies that the heuristic used in A* does improve performance and shows a very similar trend to the Compares KPI.\n",
    "\n",
    "Visits\n",
    "\n",
    "![vis](Images/Visited.png)\n",
    "\n",
    "In the test for the number of nodes visited, random paths that traverse 5, 10, 15, 20, 25, 30, and 35 stations were generated as the benches. 35 was the longest path that could be randomly generated in a reasonable amount of time. Nodes are visited in the algorithms when checking the next node in the priority queue. Dijkstra visited more nodes than A*, as it does not use a heuristic to guide the algorithm to check stations that are closer to the destination station. This means that A* visits closer nodes each time, finding the destination before having to visit all other adjacent nodes. This test verifies that the heuristic used in A* does improve performance and shows a very similar trend to the Compares and Inserts KPIs.\n",
    "\n",
    "Explanation of Benchmarking and KPI Code\n",
    "\n",
    "The Benchmarking class can perform and graph KPIs for any shortest paths algorithm and for any number of algorithms, as the algorithms parameter is a list of algorithms. It is able to measure execution time, cpu time, compares, inserts, and visits. The KPIs are implemented with an interface, allowing them to be swapped out depending on which ones the user is interested in measuring. This is an implementation of the strategy design pattern. The program can also distinguish whether it is measuring a time-based KPI or an iteration-based KPI, as the parameter that decides how many repetitions an algorithm must undergo (for execution time) will be initialized as 0 if the user does not specify the parameter. This makes the benchmarking program aware of what kind of bench(es) must be generated, as well as which KPIs to run based on the input parameters. This way, a single class is able to handle different types of KPIs.\n",
    "\n",
    "A random bench generator was used to save time when searching for shortest paths that meet our testing requirements. It also ensures that the conclusions made from our results are generalizable, as a number of random paths in the graph with the same length produce similar trends, making our benchmark more reliable than only testing a couple specific benches.\n",
    "\n",
    "The results of the benchmark may then be used by the Plotter class to plot either a bar or line graph, depending on the type of KPI used. This provides the user with a visualization of their algorithms. In addition to the results data, the Plotter methods only require the name of the KPI and the number of stations traversed (for execution time KPIs) to generate the graph title.\n",
    "\n",
    "Paths of the same length are ranked by the number of station nodes they traverse. Rather than having the Itinerary class handle this, the Dijkstra and A* algorithms themselves decide this, as both algorithms must only return one shortest path result for the Itinerary class to interpret. Each algorithm does keep track of which line was taken to reach each station, as this information is still important to the Itinerary class. The Itinerary class executes the shortest path algorithm and extracts the results. When the user prints the itinerary, the travel time, stations traversed, and path with lines is displayed.\n",
    "\n",
    "## Benchmarking and KPI's + Theoretical analysis (TSP and Connected Components) - Week 2\n",
    "\n",
    "These KPI and benchmarking measures were used to measure the performance of the TSP algorithm to determine the subway patrol route as well as the DFS algorithm in order to find the connected components for the transportation islands.\n",
    "\n",
    "Patrol Planner (Theoretical Analysis)\n",
    "\n",
    "The Patrol Planner class uses a variation of the TSP algorithm to solve the travelling salesman problem. Since the algorithm is supposed to only do the TSP on a subset of nodes of the graph and the classical TSP will try to find the most efficient route for the whole graph, the algorith must reduce the problem first. The algorithm that we designed works lke this: we essentially create a \"compressed graph\" in which the nodes belong to the subset of nodes we want to traverse and the edges between the nodes consist of the weight of the shortest path from each node to the other in the original graph. This weight is computed using Dijkstra. On this compressed graph, we run the classical TSP algorithm. The time complexity of the classical TSP algorithm is O(n!) (where n is the number of nodes in the subset), much larger than that oc actually \"compressing\" the graph. There is a better implementation that has the complexity of O(2n*n^2) but we were unable to implement it.\n",
    "\n",
    "Execution Time - Patrol Planner (Empirical Analysis)\n",
    "![ins](Images/Inserts.png)\n",
    "\n",
    "This graph makes sense with the theoretical analysis, because as the subset of nodes gets larger, the execution timeseems to be getting exponential larger. This corresponds to the O(n!) time complexity that was discussed earlier. This is a very large time complexity, and since anything lower than O(2n*n^2) has not been developed yet, it is very inefficient to use this algorihtm on very large graphs and very large subsets of nodes contained within those graphs. The patrol path has to consist of 15 or fewer nodes in order for a regular home computer to execute the task without timing out.\n",
    "\n",
    "Transportation Islands (Theoretical Analysis)\n",
    "\n",
    "The Transportations Islands class uses a variation of DFS in order to determine the transportation islands. DFS has a linear time complexity of O(n), which makes it very efficient with applied to large graphs that are represented using the adjacency list representation. To find the transportation islands in a subway graph, our method identifies what we call \"interzone\" edges (i.e edges that connect 2 nodes such that the two nodes are in different zones. The interzone edges are identified using DFS and then deleted from the graph to form a new \"island graph\".\n",
    "\n",
    "\n",
    "\n",
    "## Library Usage\n"
   ],
   "metadata": {
    "collapsed": false,
    "pycharm": {
     "name": "#%% md\n"
    }
   }
  },
  {
   "cell_type": "code",
   "execution_count": null,
   "outputs": [],
   "source": [
    "# importing all files required from the library\n",
    "%matplotlib inline\n",
    "from Graph_builder import Graph_builder\n",
    "from Graph import Graph\n",
    "from Csv_reader import Csv_reader\n",
    "from Metric_Extractor import Metric_Extractor\n",
    "from Itinerary import Itinerary\n",
    "from Graph_Algorithms.Dijkstra import Dijkstra\n",
    "from Graph_Algorithms.A_star import A_star\n",
    "from PatrolPlanner import PatrolPlanner\n",
    "from TransportationIslands import TransportationIslands"
   ],
   "metadata": {
    "collapsed": false,
    "pycharm": {
     "name": "#%%\n",
     "is_executing": true
    }
   }
  },
  {
   "cell_type": "code",
   "execution_count": null,
   "outputs": [],
   "source": [
    "# reading the csv files into dictionaries\n",
    "csv_reader = Csv_reader()\n",
    "#intitalizing graph builder object which has a graph object\n",
    "london_sub_graph = Graph_builder(csv_reader, Graph())\n",
    "# creates graph nodes of the london subway graph\n",
    "london_sub_graph.create_station_nodes('_dataset/london.stations.csv')\n",
    "london_sub_graph.create_connections('_dataset/london.connections.csv')\n",
    "# printing all connections in the created london subway graph tp show that the graph is populated\n",
    "london_sub_graph.graph.print_all_connections()"
   ],
   "metadata": {
    "collapsed": false,
    "pycharm": {
     "name": "#%%\n",
     "is_executing": true
    }
   }
  },
  {
   "cell_type": "code",
   "execution_count": null,
   "outputs": [],
   "source": [
    "# create a metric extractor for the london subway graph in order to access its metrics\n",
    "london_sub_metrics = Metric_Extractor(london_sub_graph.graph)\n",
    "# printing graph metrics of london subway graph\n",
    "print('Average Node Degree: '+str(london_sub_metrics.get_avg_degree()))\n",
    "print('Total Edge Count: '+str(london_sub_metrics.get_edge_count()))\n",
    "print('Total Node Count: '+str(london_sub_metrics.get_node_count()))\n",
    "print('Degree count of Station_id 126: ' + str(london_sub_metrics.get_degree(126)))\n",
    "\n",
    "# plotting the node distribution of the graph (the plot will open in a new window)\n",
    "london_sub_metrics.plot_node_dist()"
   ],
   "metadata": {
    "collapsed": false,
    "pycharm": {
     "name": "#%%\n",
     "is_executing": true
    }
   }
  },
  {
   "cell_type": "code",
   "execution_count": null,
   "outputs": [],
   "source": [
    "# creating an itinerary from station 36 to station 289 in order to find the shortest path\n",
    "# setting the find shortest path method to Dijkstra\n",
    "itinerary1 = Itinerary(london_sub_graph.graph, 36, 289, Dijkstra())\n",
    "# printing itinerary\n",
    "itinerary1.print_itinerary()"
   ],
   "metadata": {
    "collapsed": false,
    "pycharm": {
     "name": "#%%\n",
     "is_executing": true
    }
   }
  },
  {
   "cell_type": "code",
   "execution_count": null,
   "outputs": [],
   "source": [
    "# another example of using Dijkstra to find the shortest path between 2 stations\n",
    "itinerary1 = Itinerary(london_sub_graph.graph, 37, 123, Dijkstra())\n",
    "# printing results of the algorithm: stored as a dictionary\n",
    "print(str(itinerary1.find_shortest_path()) + '\\n')\n",
    "# printing itinerary\n",
    "itinerary1.print_itinerary()"
   ],
   "metadata": {
    "collapsed": false,
    "pycharm": {
     "name": "#%%\n",
     "is_executing": true
    }
   }
  },
  {
   "cell_type": "code",
   "execution_count": null,
   "outputs": [],
   "source": [
    "# example of itinerary using A* algorithm to find the shortest path between station 12 and 69\n",
    "# strategy pattern allows us to choose which pathfinding algorithm is necessary to use\n",
    "itinerary3 = Itinerary(london_sub_graph.graph, 301, 16, A_star())\n",
    "# printing itinerary\n",
    "itinerary3.print_itinerary()"
   ],
   "metadata": {
    "collapsed": false,
    "pycharm": {
     "name": "#%%\n",
     "is_executing": true
    }
   }
  },
  {
   "cell_type": "code",
   "execution_count": null,
   "outputs": [],
   "source": [
    "# example of using the Travelling Salesman Algorithm to find the patrol path that contains stations with ids 37, 123, 36, 289\n",
    "# the base office of the patroller is station 17\n",
    "patrolpath1 = PatrolPlanner(london_sub_graph.graph, [37, 123, 36, 289], 17)\n",
    "patrol_path = patrolpath1.find_patrol_path()\n",
    "patrolpath1.print_graph_path(patrol_path[0], patrol_path[1])"
   ],
   "metadata": {
    "collapsed": false,
    "pycharm": {
     "name": "#%%\n",
     "is_executing": true
    }
   }
  },
  {
   "cell_type": "code",
   "execution_count": null,
   "outputs": [],
   "source": [
    "# given a graph, the library finds transportation islands and identifies how they are connected to each other\n",
    "# transportation graph stores connections between transportation islands, it represents nodes as the index of that island\n",
    "# on the list of transportation islands\n",
    "islands = TransportationIslands(london_sub_graph.graph)\n",
    "london_transportation_islands = islands.get_transportation_islands()\n",
    "print(london_transportation_islands[0])\n",
    "london_transportation_islands[1].print_all_connections()\n"
   ],
   "metadata": {
    "collapsed": false,
    "pycharm": {
     "name": "#%%\n",
     "is_executing": true
    }
   }
  },
  {
   "cell_type": "code",
   "execution_count": null,
   "outputs": [],
   "source": [
    "# prints an easy to read summary of the transportations islands, which zone each one is a part of\n",
    "# Furthermore, it prints which transportation islands are connected to which\n",
    "islands.print_trans_island_summary()"
   ],
   "metadata": {
    "collapsed": false,
    "pycharm": {
     "name": "#%%\n",
     "is_executing": true
    }
   }
  }
 ],
 "metadata": {
  "kernelspec": {
   "display_name": "Python 3 (ipykernel)",
   "language": "python",
   "name": "python3"
  },
  "language_info": {
   "codemirror_mode": {
    "name": "ipython",
    "version": 3
   },
   "file_extension": ".py",
   "mimetype": "text/x-python",
   "name": "python",
   "nbconvert_exporter": "python",
   "pygments_lexer": "ipython3",
   "version": "3.9.13"
  }
 },
 "nbformat": 4,
 "nbformat_minor": 5
}